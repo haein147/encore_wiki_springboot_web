{
 "cells": [
  {
   "cell_type": "code",
   "execution_count": null,
   "metadata": {},
   "outputs": [],
   "source": [
    "# -*- coding: utf-8 -*-\n",
    "\"\"\"\n",
    "Spyder Editor\n",
    "This is a temporary script file.\n",
    "\"\"\"\n",
    "import gensim\n",
    "from gensim.corpora.wikicorpus import WikiCorpus\n",
    "from gensim.models.doc2vec import Doc2Vec, TaggedDocument\n",
    "from pprint import pprint\n",
    "import multiprocessing\n",
    "import warnings\n",
    "warnings.filterwarnings(action='ignore', category=UserWarning, module='gensim')\n",
    "\n",
    "wiki = WikiCorpus(\"kowiki-20190101-pages-articles.xml.bz2\")"
   ]
  },
  {
   "cell_type": "code",
   "execution_count": 2,
   "metadata": {},
   "outputs": [],
   "source": [
    "class TaggedWikiDocument(object):\n",
    "    def __init__(self, wiki):\n",
    "        self.wiki = wiki\n",
    "        self.wiki.metadata = True\n",
    "    def __iter__(self):\n",
    "        for content, (page_id, title) in self.wiki.get_texts():\n",
    "            yield TaggedDocument([c for c in content], [title])"
   ]
  },
  {
   "cell_type": "code",
   "execution_count": null,
   "metadata": {},
   "outputs": [
    {
     "name": "stdout",
     "output_type": "stream",
     "text": [
      "Doc2Vec(dm/m,d200,n5,w8,mc19,s0.001,t8)\n"
     ]
    }
   ],
   "source": [
    "documents = TaggedWikiDocument(wiki)\n",
    "\n",
    "cores = multiprocessing.cpu_count() * 2\n",
    "\n",
    "model = Doc2Vec(dm=1, dm_mean=1, size=200, window=8, min_count=19, epochs=10, workers=cores)\n",
    "  \n",
    "model.build_vocab(documents)\n",
    "print(str(model))\n",
    "\n",
    "model.train(documents, total_examples=model.corpus_count, epochs=model.epochs)\n"
   ]
  },
  {
   "cell_type": "code",
   "execution_count": null,
   "metadata": {},
   "outputs": [],
   "source": [
    "from scipy.spatial import distance\n",
    "\n",
    "def doc_distance(a,b):\n",
    "    return distance.euclidean(model.docvecs[a], model.docvecs[b])\n",
    "\n",
    "\n",
    "with open('kowiki_titles') as f:\n",
    "    content = f.readlines()\n",
    "\n",
    "content = [x.strip() for x in content] "
   ]
  },
  {
   "cell_type": "code",
   "execution_count": null,
   "metadata": {},
   "outputs": [],
   "source": [
    "import mysql.connector as conn\n",
    "\n",
    "db=conn.connect(host='ls-0f21b16519d9a5d94fae17a404982290420e3981.ce70zohzx2qc.ap-northeast-2.rds.amazonaws.com', user='dbmasteruser', passwd='encore365!', database='WIKI')\n"
   ]
  },
  {
   "cell_type": "code",
   "execution_count": null,
   "metadata": {},
   "outputs": [],
   "source": [
    "def insert(title, similar):\n",
    "    cursor = db.cursor()    \n",
    "    cursor.execute('INSERT INTO SIMILARS(TITLE, SIMILAR) VALUES(%s,%s)', (title, similar))\n",
    "\n",
    "\n",
    "for line in content:\n",
    "    title = line.strip()\n",
    "    try:\n",
    "        similars = \"\\t\".join([x[0] for x in model.docvecs.most_similar(positive=[title], topn=10)])\n",
    "        insert(title, similars)\n",
    "    except:\n",
    "        pass\n"
   ]
  }
 ],
 "metadata": {
  "kernelspec": {
   "display_name": "Python 3",
   "language": "python",
   "name": "python3"
  },
  "language_info": {
   "codemirror_mode": {
    "name": "ipython",
    "version": 3
   },
   "file_extension": ".py",
   "mimetype": "text/x-python",
   "name": "python",
   "nbconvert_exporter": "python",
   "pygments_lexer": "ipython3",
   "version": "3.7.0"
  }
 },
 "nbformat": 4,
 "nbformat_minor": 2
}
